{
 "cells": [
  {
   "cell_type": "code",
   "execution_count": 1,
   "metadata": {},
   "outputs": [
    {
     "name": "stderr",
     "output_type": "stream",
     "text": [
      "/home/maaz-lfd/anaconda3/envs/py38/lib/python3.8/site-packages/tqdm/auto.py:22: TqdmWarning: IProgress not found. Please update jupyter and ipywidgets. See https://ipywidgets.readthedocs.io/en/stable/user_install.html\n",
      "  from .autonotebook import tqdm as notebook_tqdm\n",
      "/home/maaz-lfd/anaconda3/envs/py38/lib/python3.8/site-packages/requests/__init__.py:109: RequestsDependencyWarning: urllib3 (1.26.13) or chardet (5.1.0)/charset_normalizer (2.0.12) doesn't match a supported version!\n",
      "  warnings.warn(\n",
      "2023-10-23 20:11:31.151218: I tensorflow/core/platform/cpu_feature_guard.cc:193] This TensorFlow binary is optimized with oneAPI Deep Neural Network Library (oneDNN) to use the following CPU instructions in performance-critical operations:  AVX2 FMA\n",
      "To enable them in other operations, rebuild TensorFlow with the appropriate compiler flags.\n",
      "2023-10-23 20:11:44.999898: W tensorflow/compiler/xla/stream_executor/platform/default/dso_loader.cc:64] Could not load dynamic library 'libnvinfer.so.7'; dlerror: libnvinfer.so.7: cannot open shared object file: No such file or directory\n",
      "2023-10-23 20:11:45.000168: W tensorflow/compiler/xla/stream_executor/platform/default/dso_loader.cc:64] Could not load dynamic library 'libnvinfer_plugin.so.7'; dlerror: libnvinfer_plugin.so.7: cannot open shared object file: No such file or directory\n",
      "2023-10-23 20:11:45.000192: W tensorflow/compiler/tf2tensorrt/utils/py_utils.cc:38] TF-TRT Warning: Cannot dlopen some TensorRT libraries. If you would like to use Nvidia GPU with TensorRT, please make sure the missing libraries mentioned above are installed properly.\n"
     ]
    }
   ],
   "source": [
    "from transformers import AutoTokenizer, AutoModelForTokenClassification\n",
    "from transformers import pipeline"
   ]
  },
  {
   "cell_type": "code",
   "execution_count": 2,
   "metadata": {},
   "outputs": [
    {
     "name": "stderr",
     "output_type": "stream",
     "text": [
      "Downloading (…)okenizer_config.json: 100%|██████████| 376/376 [00:00<00:00, 40.1kB/s]\n",
      "Downloading (…)solve/main/vocab.txt: 100%|██████████| 225k/225k [00:00<00:00, 251kB/s]\n",
      "Downloading (…)/main/tokenizer.json: 100%|██████████| 447k/447k [00:01<00:00, 243kB/s]\n",
      "Downloading (…)cial_tokens_map.json: 100%|██████████| 112/112 [00:00<00:00, 47.4kB/s]\n",
      "Downloading (…)lve/main/config.json: 100%|██████████| 1.00k/1.00k [00:00<00:00, 53.7kB/s]\n",
      "Downloading pytorch_model.bin: 100%|██████████| 436M/436M [40:50<00:00, 178kB/s] \n"
     ]
    }
   ],
   "source": [
    "tokenizer = AutoTokenizer.from_pretrained(\"kamalkraj/BioELECTRA-PICO\")\n",
    "model = AutoModelForTokenClassification.from_pretrained(\"kamalkraj/BioELECTRA-PICO\")"
   ]
  },
  {
   "cell_type": "code",
   "execution_count": 3,
   "metadata": {},
   "outputs": [],
   "source": [
    "nlp = pipeline(\"ner\", model=model, tokenizer=tokenizer)"
   ]
  },
  {
   "cell_type": "code",
   "execution_count": 4,
   "metadata": {},
   "outputs": [
    {
     "name": "stderr",
     "output_type": "stream",
     "text": [
      "Asking to truncate to max_length but no maximum length is provided and the model has no predefined maximum length. Default to no truncation.\n"
     ]
    },
    {
     "name": "stdout",
     "output_type": "stream",
     "text": [
      "[{'entity': 'I-Participants', 'score': 0.8316009, 'index': 5, 'word': 'critically', 'start': 30, 'end': 40}, {'entity': 'I-Participants', 'score': 0.79285794, 'index': 6, 'word': 'ill', 'start': 41, 'end': 44}, {'entity': 'I-Participants', 'score': 0.77887094, 'index': 7, 'word': 'patients', 'start': 45, 'end': 53}, {'entity': 'I-Outcome', 'score': 0.52259195, 'index': 41, 'word': 'mortality', 'start': 212, 'end': 221}, {'entity': 'I-Participants', 'score': 0.65704894, 'index': 92, 'word': 'critically', 'start': 537, 'end': 547}, {'entity': 'I-Participants', 'score': 0.6281377, 'index': 93, 'word': 'ill', 'start': 548, 'end': 551}, {'entity': 'I-Outcome', 'score': 0.58772475, 'index': 107, 'word': 'allogeneic', 'start': 633, 'end': 643}, {'entity': 'I-Outcome', 'score': 0.6532099, 'index': 131, 'word': 'health', 'start': 745, 'end': 751}, {'entity': 'I-Outcome', 'score': 0.70205945, 'index': 132, 'word': 'care', 'start': 752, 'end': 756}, {'entity': 'I-Outcome', 'score': 0.6884015, 'index': 133, 'word': 'costs', 'start': 757, 'end': 762}]\n"
     ]
    }
   ],
   "source": [
    "\n",
    "example = '''Recent evidence suggests that critically ill patients are able to tolerate lower levels of\n",
    "haemoglobin than was previously believed. It is our goal to show that transfusing to a level of 100\n",
    "g/l does not improve mortality and other clinically important outcomes in a critical care setting.\n",
    "Although many questions remain, many laboratory and clinical studies, including a recent\n",
    "randomized controlled trial (RCT), have established that transfusing to normal haemoglobin\n",
    "concentrations does not improve organ failure and mortality in the critically ill patient. In addition,\n",
    "a restrictive transfusion strategy will reduce exposure to allogeneic transfusions, result in more\n",
    "e cient use of red blood cells (RBCs), save blood overall, and decrease health care costs.'''\n",
    "\n",
    "ner_results = nlp(example)\n",
    "print(ner_results)"
   ]
  },
  {
   "cell_type": "code",
   "execution_count": 5,
   "metadata": {},
   "outputs": [
    {
     "ename": "TypeError",
     "evalue": "list indices must be integers or slices, not str",
     "output_type": "error",
     "traceback": [
      "\u001b[0;31m---------------------------------------------------------------------------\u001b[0m",
      "\u001b[0;31mTypeError\u001b[0m                                 Traceback (most recent call last)",
      "Cell \u001b[0;32mIn[5], line 1\u001b[0m\n\u001b[0;32m----> 1\u001b[0m ner_results[\u001b[39m'\u001b[39;49m\u001b[39mword\u001b[39;49m\u001b[39m'\u001b[39;49m]\n",
      "\u001b[0;31mTypeError\u001b[0m: list indices must be integers or slices, not str"
     ]
    }
   ],
   "source": []
  },
  {
   "cell_type": "code",
   "execution_count": null,
   "metadata": {},
   "outputs": [],
   "source": []
  }
 ],
 "metadata": {
  "kernelspec": {
   "display_name": "Python 3",
   "language": "python",
   "name": "python3"
  },
  "language_info": {
   "codemirror_mode": {
    "name": "ipython",
    "version": 3
   },
   "file_extension": ".py",
   "mimetype": "text/x-python",
   "name": "python",
   "nbconvert_exporter": "python",
   "pygments_lexer": "ipython3",
   "version": "3.8.15 (default, Nov 24 2022, 15:19:38) \n[GCC 11.2.0]"
  },
  "orig_nbformat": 4,
  "vscode": {
   "interpreter": {
    "hash": "7ea34027370c64acd6bcb4805abcfc7c186d0268c976275d92a125d7d9b18b04"
   }
  }
 },
 "nbformat": 4,
 "nbformat_minor": 2
}
