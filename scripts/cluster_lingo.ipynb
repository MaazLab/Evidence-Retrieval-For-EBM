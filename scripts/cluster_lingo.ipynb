{
 "cells": [
  {
   "attachments": {},
   "cell_type": "markdown",
   "metadata": {},
   "source": [
    "#### TODO\n",
    "1. Select cluster that have maximum numbers of high rank documents(TF-IDF ranking)"
   ]
  },
  {
   "cell_type": "code",
   "execution_count": 29,
   "metadata": {},
   "outputs": [
    {
     "name": "stdout",
     "output_type": "stream",
     "text": [
      "200\n",
      "{\"clusters\":[{\"labels\":[\"Acute Respiratory Distress Syndrome Ards\"],\"documents\":[1,6],\"clusters\":[],\"score\":14.005841808889054},{\"labels\":[\"Cell\"],\"documents\":[0,2],\"clusters\":[],\"score\":19.471491549976623},{\"labels\":[\"Control Trial\"],\"documents\":[0,8],\"clusters\":[],\"score\":15.118283194857467},{\"labels\":[\"Human Disease\"],\"documents\":[2,9],\"clusters\":[],\"score\":18.892293776402656},{\"labels\":[\"Influenza\"],\"documents\":[7,9],\"clusters\":[],\"score\":6.731836049226465},{\"labels\":[\"Intensive Care Unit\"],\"documents\":[5,6],\"clusters\":[],\"score\":13.836353456113201},{\"labels\":[\"Patient Levels\"],\"documents\":[0,3],\"clusters\":[],\"score\":15.797500112498618},{\"labels\":[\"Systematic Review\"],\"documents\":[4,8],\"clusters\":[],\"score\":6.9671909725943095}]}\n",
      "label :  ['Acute Respiratory Distress Syndrome Ards']\n",
      "no. of docs :  2\n",
      "Confidence score of cluster :  14.005841808889054\n",
      "docs  [{'title': 'international symposium intensive care emergency medicine dominate result recent clinical trial sepsis acute respiratory distress syndrome ards promise extracorporeal liver replacement therapy noninvasive ventilation area interest ethical issue receive attention overall state art lecture pro con debate seminar tutorial high standard meeting mark sense renew enthusiasm positive progress occur intensive care medicine'}, {'title': 'introduction acute respiratory distress syndrome ards heterogeneous etiology rapid progressive change high mortality rate improve outcome ards accurate diagnosis essential application effective early treatment present study investigate clinical effect safety open lung biopsy olb patient early stage ards suspect non infectious origin methods undertake retrospective study patient early stage ards define week intubation undergo olb medical intensive care unit tertiary care hospital datum analyze include baseline characteristic complication rate pathological diagnosis treatment alteration hospital survival results age patient ± year mean ± sd average ratio arterial partial pressure oxygen pao(2 fraction inspire oxygen fio(2 ± mmhg mean ± sd biopsy patient immunocompromise postoperative complication occur patient biopsy provide pathological diagnosis diagnostic yield specific pathological diagnosis patient biopsy finding lead alteration treatment modality patient treatment alteration rate high patient nonspecific diagnosis patient specific diagnosis p overall mortality influence age gender pre olb oxygenation complication rate pathological result alteration treatment surgery relate mortality survival rate immunocompromise patient immunocompetent patient versus p study conclusion retrospective study suggest olb useful acceptably safe diagnostic procedure select patient early stage ards'}]\n",
      "==========================================\n",
      "label :  ['Cell']\n",
      "no. of docs :  2\n",
      "Confidence score of cluster :  19.471491549976623\n",
      "docs  [{'title': 'recent evidence suggest critically ill patient able tolerate low level haemoglobin previously believe goal transfusing level g l improve mortality clinically important outcome critical care setting question remain laboratory clinical study include recent randomized control trial rct establish transfusing normal haemoglobin concentration improve organ failure mortality critically ill patient addition restrictive transfusion strategy reduce exposure allogeneic transfusion result efficient use red blood cell rbc save blood overall decrease health care cost'}, {'title': 'anticancer potential catechin derive green tea understand catechin relate growth suppression and/or apoptosis appear vary type stage malignancy type catechin vitro study examine biological effect epicatechin ec epigallocatechin egc ec gallate ecg egc gallate egcg cell line human gender specific cancer cell line develop organ confine hh870 metastatic du145 prostate cancer moderately hh450 poorly differentiate hh639 epithelial ovarian cancer grow ec egc ecg egcg untreated cell reach confluency viability double time measure treat untreated cell ec treatment reduce proliferation hh639 cell egcg suppress proliferation cell line ecg potent inhibit du145 hh870 hh450 hh639 cell concentration µm egcg inhibit du145 hh870 hh450 hh639 cell concentration µm. compare egcg ecg effectively suppress growth prostate cancer epithelial ovarian cancer cell line derive tumor patient different stage disease'}]\n",
      "==========================================\n",
      "label :  ['Control Trial']\n",
      "no. of docs :  2\n",
      "Confidence score of cluster :  15.118283194857467\n",
      "docs  [{'title': 'recent evidence suggest critically ill patient able tolerate low level haemoglobin previously believe goal transfusing level g l improve mortality clinically important outcome critical care setting question remain laboratory clinical study include recent randomized control trial rct establish transfusing normal haemoglobin concentration improve organ failure mortality critically ill patient addition restrictive transfusion strategy reduce exposure allogeneic transfusion result efficient use red blood cell rbc save blood overall decrease health care cost'}, {'title': 'introduction exogenous surfactant use treat acute respiratory failure child benefit harm setting clear objective present systematic review assess effect exogenous pulmonary surfactant cause mortality child mechanically ventilate acute respiratory failure methods search medline embase cinahl ovid healthstar database bibliography include trial review article conference proceeding trial registry include prospective randomize control trial pulmonary surfactant enrol intubated mechanically ventilate child acute respiratory failure exclude trial exclusively enrol neonate patient asthma reviewer independently rate trial inclusion extract datum assess methodologic quality quantitatively pool result trial suitable use random effect model results trial randomize patient include surfactant use reduce mortality relative risk confidence interval p associate increase ventilator free day weight mean difference day confidence interval day p reduce duration ventilation weight mean difference day confidence interval day p conclusion surfactant use decrease mortality associate ventilator free day reduce duration ventilation adverse event report'}]\n",
      "==========================================\n",
      "label :  ['Human Disease']\n",
      "no. of docs :  2\n",
      "Confidence score of cluster :  18.892293776402656\n",
      "docs  [{'title': 'anticancer potential catechin derive green tea understand catechin relate growth suppression and/or apoptosis appear vary type stage malignancy type catechin vitro study examine biological effect epicatechin ec epigallocatechin egc ec gallate ecg egc gallate egcg cell line human gender specific cancer cell line develop organ confine hh870 metastatic du145 prostate cancer moderately hh450 poorly differentiate hh639 epithelial ovarian cancer grow ec egc ecg egcg untreated cell reach confluency viability double time measure treat untreated cell ec treatment reduce proliferation hh639 cell egcg suppress proliferation cell line ecg potent inhibit du145 hh870 hh450 hh639 cell concentration µm egcg inhibit du145 hh870 hh450 hh639 cell concentration µm. compare egcg ecg effectively suppress growth prostate cancer epithelial ovarian cancer cell line derive tumor patient different stage disease'}, {'title': 'influenza virus wide host range infection wild waterfowl poultry human recently cross species transmission avian influenza particularly subtype h5n1 highlight importance non human subtype incidence human population increase past decade cross species transmission human disease range asymptomatic mild conjunctivitis fulminant pneumonia death case risk genetic change development novel virus increase heighten need public health hospital measure review discuss epidemiology host range human disease outcome treatment prevention cross transmission avian influenza human'}]\n",
      "==========================================\n",
      "label :  ['Influenza']\n",
      "no. of docs :  2\n",
      "Confidence score of cluster :  6.731836049226465\n",
      "docs  [{'title': 'background time delay start influenza pandemic subsequent initiation country highly relevant preparedness planning quantify distribution random time term separate component delay assess delay extend non pharmaceutical intervention methods finding model construct time delay account epidemic growth source region ii delay infected individual source region seek travel risk country iii chance infect traveler detect screen exit entry border iv possibility flight transmission v chance infect arrival initiate epidemic vi delay infection risk country gather momentum effort reduce disease reproduction number source region severe travel restriction effective delay local epidemic favourable circumstance add month delay hand model predict border screening symptomatic infection wear protective mask travel promote early presentation case arise arrive passenger moderate reduction travel volume increase delay matter day week elevate flight transmission reduce delay minimally conclusion delay epidemic pandemic strain influenza import risk country largely determine course epidemic source region number traveler attempt enter risk country little affect non pharmaceutical intervention target traveler short prevent international travel altogether eradicate nascent pandemic source region appear reliable method prevent country country spread pandemic strain influenza'}, {'title': 'influenza virus wide host range infection wild waterfowl poultry human recently cross species transmission avian influenza particularly subtype h5n1 highlight importance non human subtype incidence human population increase past decade cross species transmission human disease range asymptomatic mild conjunctivitis fulminant pneumonia death case risk genetic change development novel virus increase heighten need public health hospital measure review discuss epidemiology host range human disease outcome treatment prevention cross transmission avian influenza human'}]\n",
      "==========================================\n",
      "label :  ['Intensive Care Unit']\n",
      "no. of docs :  2\n",
      "Confidence score of cluster :  13.836353456113201\n",
      "docs  [{'title': 'ventilator associate pneumonia vap lead cause morbidity mortality intensive care unit incidence vap vary different study mortality rate 20–75 accord study population aspiration colonize pathogenic microorganism oropharynx gastrointestinal tract main route development vap hand major risk factor vap intubation duration mechanical ventilation diagnosis remain difficult study importance early initiation appropriate antibiotic prognosis vap cause extra length stay hospital intensive care unit increase hospital cost consequently infection control policy rational save money'}, {'title': 'introduction acute respiratory distress syndrome ards heterogeneous etiology rapid progressive change high mortality rate improve outcome ards accurate diagnosis essential application effective early treatment present study investigate clinical effect safety open lung biopsy olb patient early stage ards suspect non infectious origin methods undertake retrospective study patient early stage ards define week intubation undergo olb medical intensive care unit tertiary care hospital datum analyze include baseline characteristic complication rate pathological diagnosis treatment alteration hospital survival results age patient ± year mean ± sd average ratio arterial partial pressure oxygen pao(2 fraction inspire oxygen fio(2 ± mmhg mean ± sd biopsy patient immunocompromise postoperative complication occur patient biopsy provide pathological diagnosis diagnostic yield specific pathological diagnosis patient biopsy finding lead alteration treatment modality patient treatment alteration rate high patient nonspecific diagnosis patient specific diagnosis p overall mortality influence age gender pre olb oxygenation complication rate pathological result alteration treatment surgery relate mortality survival rate immunocompromise patient immunocompetent patient versus p study conclusion retrospective study suggest olb useful acceptably safe diagnostic procedure select patient early stage ards'}]\n",
      "==========================================\n",
      "label :  ['Patient Levels']\n",
      "no. of docs :  2\n",
      "Confidence score of cluster :  15.797500112498618\n",
      "docs  [{'title': 'recent evidence suggest critically ill patient able tolerate low level haemoglobin previously believe goal transfusing level g l improve mortality clinically important outcome critical care setting question remain laboratory clinical study include recent randomized control trial rct establish transfusing normal haemoglobin concentration improve organ failure mortality critically ill patient addition restrictive transfusion strategy reduce exposure allogeneic transfusion result efficient use red blood cell rbc save blood overall decrease health care cost'}, {'title': 'background patient chronic obstructive pulmonary disease copd experience exacerbation condition exacerbation event define term subjective descriptor symptom dyspnoea cough sputum worsen sufficiently warrant change medical management need reliable marker reflect pathological mechanism underlie exacerbation severity use surrogate assess treatment effect clinical study little know exist study variable suggest marker change stable exacerbation phase copd attempt find good surrogate exacerbation review literature identify marker change consistent manner severity exacerbation event methods search standard database july use major keyword term study provide demographic spirometry potential marker clear eligibility criterion include study central tendency dispersion variable marker report collect tabulate accord sample size ats ers exacerbation severity levels iii criterion possible similarity patient levels ii iii data redefine category exacerbation patient level patient levels ii iii combine approach perform fix effect meta analysis report variable results include total study report july study investigate patient copd arterial carbon dioxide tension breathing rate statistically different level exacerbation severity out- patient setting measure weak relationship level setting insufficient datum permit meta analysis conclusion arterial carbon dioxide breathing rate vary consistent manner exacerbation severity patient setting measure weak correlation far explore future longitudinal study assess suggest mathematical modelling technique'}]\n",
      "==========================================\n",
      "label :  ['Systematic Review']\n",
      "no. of docs :  2\n",
      "Confidence score of cluster :  6.9671909725943095\n",
      "docs  [{'title': 'background smallpox variola major use biological weapon review outbreak post world war ii europe north america order understand smallpox transmission pattern methods systematic review use identify paper national library medicine embase biosis cochrane library defense technical information center worldcat reference list include publication author review select paper smallpox outbreak results relevant outbreak identify publication median effective generation reproduction rate initial r range 0–38 majority outbreak small case contain generation outbreak hospitalize patient low initial r value median prolong initially recognize median generation outbreak hospitalize patient high initial r value median short median generation index case atypical presentation smallpox likely diagnose smallpox outbreak index case correctly diagnose large median case long median generation compare outbreak index case correctly diagnose median case generation conclusion patterns spread smallpox outbreak vary circumstance early detection implementation control measure important influence magnitude outbreak majority outbreak study europe north america control generation detect early'}, {'title': 'introduction exogenous surfactant use treat acute respiratory failure child benefit harm setting clear objective present systematic review assess effect exogenous pulmonary surfactant cause mortality child mechanically ventilate acute respiratory failure methods search medline embase cinahl ovid healthstar database bibliography include trial review article conference proceeding trial registry include prospective randomize control trial pulmonary surfactant enrol intubated mechanically ventilate child acute respiratory failure exclude trial exclusively enrol neonate patient asthma reviewer independently rate trial inclusion extract datum assess methodologic quality quantitatively pool result trial suitable use random effect model results trial randomize patient include surfactant use reduce mortality relative risk confidence interval p associate increase ventilator free day weight mean difference day confidence interval day p reduce duration ventilation weight mean difference day confidence interval day p conclusion surfactant use decrease mortality associate ventilator free day reduce duration ventilation adverse event report'}]\n",
      "==========================================\n"
     ]
    }
   ],
   "source": [
    "import requests\n",
    "\n",
    "# Set the URL of the Carrot2 REST API\n",
    "url = 'http://localhost:8080/service/cluster'\n",
    "\n",
    "# Set the input data and clustering parameters\n",
    "data = {\n",
    "    \"documents\": [\n",
    "        { \"title\": \"recent evidence suggest critically ill patient able tolerate low level haemoglobin previously believe goal transfusing level g l improve mortality clinically important outcome critical care setting question remain laboratory clinical study include recent randomized control trial rct establish transfusing normal haemoglobin concentration improve organ failure mortality critically ill patient addition restrictive transfusion strategy reduce exposure allogeneic transfusion result efficient use red blood cell rbc save blood overall decrease health care cost\" },\n",
    "        { \"title\": \"international symposium intensive care emergency medicine dominate result recent clinical trial sepsis acute respiratory distress syndrome ards promise extracorporeal liver replacement therapy noninvasive ventilation area interest ethical issue receive attention overall state art lecture pro con debate seminar tutorial high standard meeting mark sense renew enthusiasm positive progress occur intensive care medicine\" },\n",
    "        { \"title\": \"anticancer potential catechin derive green tea understand catechin relate growth suppression and/or apoptosis appear vary type stage malignancy type catechin vitro study examine biological effect epicatechin ec epigallocatechin egc ec gallate ecg egc gallate egcg cell line human gender specific cancer cell line develop organ confine hh870 metastatic du145 prostate cancer moderately hh450 poorly differentiate hh639 epithelial ovarian cancer grow ec egc ecg egcg untreated cell reach confluency viability double time measure treat untreated cell ec treatment reduce proliferation hh639 cell egcg suppress proliferation cell line ecg potent inhibit du145 hh870 hh450 hh639 cell concentration µm egcg inhibit du145 hh870 hh450 hh639 cell concentration µm. compare egcg ecg effectively suppress growth prostate cancer epithelial ovarian cancer cell line derive tumor patient different stage disease\"},\n",
    "        { \"title\" : \"background patient chronic obstructive pulmonary disease copd experience exacerbation condition exacerbation event define term subjective descriptor symptom dyspnoea cough sputum worsen sufficiently warrant change medical management need reliable marker reflect pathological mechanism underlie exacerbation severity use surrogate assess treatment effect clinical study little know exist study variable suggest marker change stable exacerbation phase copd attempt find good surrogate exacerbation review literature identify marker change consistent manner severity exacerbation event methods search standard database july use major keyword term study provide demographic spirometry potential marker clear eligibility criterion include study central tendency dispersion variable marker report collect tabulate accord sample size ats ers exacerbation severity levels iii criterion possible similarity patient levels ii iii data redefine category exacerbation patient level patient levels ii iii combine approach perform fix effect meta analysis report variable results include total study report july study investigate patient copd arterial carbon dioxide tension breathing rate statistically different level exacerbation severity out- patient setting measure weak relationship level setting insufficient datum permit meta analysis conclusion arterial carbon dioxide breathing rate vary consistent manner exacerbation severity patient setting measure weak correlation far explore future longitudinal study assess suggest mathematical modelling technique\" },\n",
    "        { \"title\" : \"background smallpox variola major use biological weapon review outbreak post world war ii europe north america order understand smallpox transmission pattern methods systematic review use identify paper national library medicine embase biosis cochrane library defense technical information center worldcat reference list include publication author review select paper smallpox outbreak results relevant outbreak identify publication median effective generation reproduction rate initial r range 0–38 majority outbreak small case contain generation outbreak hospitalize patient low initial r value median prolong initially recognize median generation outbreak hospitalize patient high initial r value median short median generation index case atypical presentation smallpox likely diagnose smallpox outbreak index case correctly diagnose large median case long median generation compare outbreak index case correctly diagnose median case generation conclusion patterns spread smallpox outbreak vary circumstance early detection implementation control measure important influence magnitude outbreak majority outbreak study europe north america control generation detect early\" },\n",
    "        { \"title\" : \"ventilator associate pneumonia vap lead cause morbidity mortality intensive care unit incidence vap vary different study mortality rate 20–75 accord study population aspiration colonize pathogenic microorganism oropharynx gastrointestinal tract main route development vap hand major risk factor vap intubation duration mechanical ventilation diagnosis remain difficult study importance early initiation appropriate antibiotic prognosis vap cause extra length stay hospital intensive care unit increase hospital cost consequently infection control policy rational save money\" },\n",
    "        { \"title\" : \"introduction acute respiratory distress syndrome ards heterogeneous etiology rapid progressive change high mortality rate improve outcome ards accurate diagnosis essential application effective early treatment present study investigate clinical effect safety open lung biopsy olb patient early stage ards suspect non infectious origin methods undertake retrospective study patient early stage ards define week intubation undergo olb medical intensive care unit tertiary care hospital datum analyze include baseline characteristic complication rate pathological diagnosis treatment alteration hospital survival results age patient ± year mean ± sd average ratio arterial partial pressure oxygen pao(2 fraction inspire oxygen fio(2 ± mmhg mean ± sd biopsy patient immunocompromise postoperative complication occur patient biopsy provide pathological diagnosis diagnostic yield specific pathological diagnosis patient biopsy finding lead alteration treatment modality patient treatment alteration rate high patient nonspecific diagnosis patient specific diagnosis p overall mortality influence age gender pre olb oxygenation complication rate pathological result alteration treatment surgery relate mortality survival rate immunocompromise patient immunocompetent patient versus p study conclusion retrospective study suggest olb useful acceptably safe diagnostic procedure select patient early stage ards\" },\n",
    "        { \"title\" : \"background time delay start influenza pandemic subsequent initiation country highly relevant preparedness planning quantify distribution random time term separate component delay assess delay extend non pharmaceutical intervention methods finding model construct time delay account epidemic growth source region ii delay infected individual source region seek travel risk country iii chance infect traveler detect screen exit entry border iv possibility flight transmission v chance infect arrival initiate epidemic vi delay infection risk country gather momentum effort reduce disease reproduction number source region severe travel restriction effective delay local epidemic favourable circumstance add month delay hand model predict border screening symptomatic infection wear protective mask travel promote early presentation case arise arrive passenger moderate reduction travel volume increase delay matter day week elevate flight transmission reduce delay minimally conclusion delay epidemic pandemic strain influenza import risk country largely determine course epidemic source region number traveler attempt enter risk country little affect non pharmaceutical intervention target traveler short prevent international travel altogether eradicate nascent pandemic source region appear reliable method prevent country country spread pandemic strain influenza\" },\n",
    "        { \"title\" : \"introduction exogenous surfactant use treat acute respiratory failure child benefit harm setting clear objective present systematic review assess effect exogenous pulmonary surfactant cause mortality child mechanically ventilate acute respiratory failure methods search medline embase cinahl ovid healthstar database bibliography include trial review article conference proceeding trial registry include prospective randomize control trial pulmonary surfactant enrol intubated mechanically ventilate child acute respiratory failure exclude trial exclusively enrol neonate patient asthma reviewer independently rate trial inclusion extract datum assess methodologic quality quantitatively pool result trial suitable use random effect model results trial randomize patient include surfactant use reduce mortality relative risk confidence interval p associate increase ventilator free day weight mean difference day confidence interval day p reduce duration ventilation weight mean difference day confidence interval day p conclusion surfactant use decrease mortality associate ventilator free day reduce duration ventilation adverse event report\" },\n",
    "        { \"title\" : \"influenza virus wide host range infection wild waterfowl poultry human recently cross species transmission avian influenza particularly subtype h5n1 highlight importance non human subtype incidence human population increase past decade cross species transmission human disease range asymptomatic mild conjunctivitis fulminant pneumonia death case risk genetic change development novel virus increase heighten need public health hospital measure review discuss epidemiology host range human disease outcome treatment prevention cross transmission avian influenza human\" }\n",
    "        \n",
    "        ],\n",
    "    \"algorithm\": 'Lingo',\n",
    "    \"language\": 'English',\n",
    "}\n",
    "\n",
    "# Send a POST request to the Carrot2 REST API\n",
    "response = requests.post(url, json=data)\n",
    "print(response.status_code)\n",
    "print(response.text)\n",
    "# Parse the response JSON and print the resulting clusters\n",
    "clusters = response.json()['clusters']\n",
    "for i in clusters:\n",
    "    print('label : ',i['labels'])\n",
    "    print('no. of docs : ',len(i['documents']))\n",
    "    print('Confidence score of cluster : ', i['score'])\n",
    "    print('docs ', [data['documents'][k] for k in i['documents']])\n",
    "    print(\"==========================================\")\n",
    "# for i, cluster in enumerate(clusters):\n",
    "#     print(f'Cluster {i + 1}: {cluster[\"labels\"]}')\n",
    "#     for document in cluster['documents']:\n",
    "#         print('document ',document)\n",
    "#         print(f' - {document[\"title\"]}: {document[\"summary\"]}')"
   ]
  },
  {
   "cell_type": "code",
   "execution_count": 15,
   "metadata": {},
   "outputs": [
    {
     "data": {
      "text/plain": [
       "[{'labels': ['Firefox'],\n",
       "  'documents': [1, 2],\n",
       "  'clusters': [],\n",
       "  'score': 0.17439038910197008},\n",
       " {'labels': ['Windows'],\n",
       "  'documents': [0, 1],\n",
       "  'clusters': [],\n",
       "  'score': 0.2183744736336805}]"
      ]
     },
     "execution_count": 15,
     "metadata": {},
     "output_type": "execute_result"
    }
   ],
   "source": [
    "clusters"
   ]
  },
  {
   "cell_type": "code",
   "execution_count": null,
   "metadata": {},
   "outputs": [],
   "source": []
  }
 ],
 "metadata": {
  "kernelspec": {
   "display_name": "Python 3",
   "language": "python",
   "name": "python3"
  },
  "language_info": {
   "codemirror_mode": {
    "name": "ipython",
    "version": 3
   },
   "file_extension": ".py",
   "mimetype": "text/x-python",
   "name": "python",
   "nbconvert_exporter": "python",
   "pygments_lexer": "ipython3",
   "version": "3.8.15 (default, Nov 24 2022, 15:19:38) \n[GCC 11.2.0]"
  },
  "orig_nbformat": 4,
  "vscode": {
   "interpreter": {
    "hash": "7ea34027370c64acd6bcb4805abcfc7c186d0268c976275d92a125d7d9b18b04"
   }
  }
 },
 "nbformat": 4,
 "nbformat_minor": 2
}
